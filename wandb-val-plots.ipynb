{
 "cells": [
  {
   "cell_type": "code",
   "execution_count": null,
   "metadata": {},
   "outputs": [],
   "source": [
    "import wandb \n",
    "import pandas as pd \n",
    "import matplotlib.pyplot as plt\n",
    "import numpy as np\n",
    "\n",
    "# get metrics from run online \n",
    "api = wandb.Api()\n",
    "run = api.run(\"tlips/lerobot/rynf40po\")\n",
    "run = api.run(\"tlips/lerobot/7dhx23nf\")\n",
    "\n",
    "# get the data from the run\n",
    "\n",
    "data = run.history(samples=1000)\n",
    "data.columns"
   ]
  },
  {
   "cell_type": "code",
   "execution_count": null,
   "metadata": {},
   "outputs": [],
   "source": [
    "# count numer of non-nan entries\n",
    "data.count()"
   ]
  },
  {
   "cell_type": "code",
   "execution_count": null,
   "metadata": {},
   "outputs": [],
   "source": [
    "train_loss = data[\"train/loss\"]\n",
    "val_loss = data[\"validation/val_loss\"]\n",
    "train_steps = data[\"train/step\"]\n",
    "val_steps = data[\"validation/step\"]\n",
    "eval_steps = data[\"eval/step\"]\n",
    "eval_success_rate = data[\"eval/pc_success\"]\n",
    "\n",
    "# filter out nan values\n",
    "train_loss = train_loss.dropna()\n",
    "val_loss = val_loss.dropna()\n",
    "train_steps = train_steps.dropna()\n",
    "val_steps = val_steps.dropna()\n",
    "eval_steps = eval_steps.dropna()\n",
    "eval_success_rate = eval_success_rate.dropna()\n",
    "\n",
    "print(eval_steps.count())\n",
    "print(eval_success_rate.count())\n"
   ]
  },
  {
   "cell_type": "code",
   "execution_count": null,
   "metadata": {},
   "outputs": [],
   "source": [
    "# plot train and validation loss on left y axis and success rate on right y axis\n",
    "fig, ax1 = plt.subplots()\n",
    "\n",
    "ax1.set_xlabel('steps')\n",
    "ax1.set_ylabel('loss')\n",
    "ax1.set_ylim(0, 1)\n",
    "# format x axis ticks as N k \n",
    "ax1.xaxis.set_major_formatter(plt.FuncFormatter(lambda x, _: f'{int(x/1000):,}k'))\n",
    "\n",
    "ax1.plot(train_steps, train_loss, color=\"blue\", label=\"train loss\")\n",
    "ax1.plot(val_steps, val_loss, color=\"red\", label=\"validation loss\")\n",
    "ax1.legend(loc=\"upper left\")\n",
    "ax2 = ax1.twinx()\n",
    "ax2.set_ylabel('success rate')\n",
    "ax2.set_ylim(0,100)\n",
    "ax2.plot(eval_steps,eval_success_rate, color=\"green\", label=\"success rate\")\n",
    "ax2.legend(loc=\"upper right\")\n",
    "plt.title(f\"val loss - {run.tags}\")\n",
    "plt.show()\n"
   ]
  },
  {
   "cell_type": "code",
   "execution_count": null,
   "metadata": {},
   "outputs": [],
   "source": [
    "# get correlation between the val loss and the success rate\n",
    "correlation = val_loss.corr(eval_success_rate)\n",
    "print(correlation)\n",
    "\n",
    "time_correlation = val_steps.corr(eval_success_rate)\n",
    "print(time_correlation)\n"
   ]
  },
  {
   "cell_type": "code",
   "execution_count": null,
   "metadata": {},
   "outputs": [],
   "source": [
    "# get a table of the val loss compared to the success rate\n",
    "import pandas as pd\n",
    "table = pd.concat([val_loss, eval_success_rate], axis=1)\n",
    "\n",
    "# drop entries with nan values\n",
    "table = table.dropna()\n",
    "table\n",
    "\n",
    "# for each validaiton loss, get the rank of the success rate\n",
    "table[\"success_rank\"] = table[\"eval/pc_success\"].rank(ascending=False)\n",
    "table = table.sort_values(by=\"validation/val_loss\")\n",
    "table"
   ]
  }
 ],
 "metadata": {
  "language_info": {
   "name": "python"
  }
 },
 "nbformat": 4,
 "nbformat_minor": 2
}
